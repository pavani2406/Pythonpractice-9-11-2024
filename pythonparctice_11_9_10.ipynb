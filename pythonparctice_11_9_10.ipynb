{
  "nbformat": 4,
  "nbformat_minor": 0,
  "metadata": {
    "colab": {
      "provenance": [],
      "authorship_tag": "ABX9TyOUJZRoCKgRXpRoMRZS72WX",
      "include_colab_link": true
    },
    "kernelspec": {
      "name": "python3",
      "display_name": "Python 3"
    },
    "language_info": {
      "name": "python"
    }
  },
  "cells": [
    {
      "cell_type": "markdown",
      "metadata": {
        "id": "view-in-github",
        "colab_type": "text"
      },
      "source": [
        "<a href=\"https://colab.research.google.com/github/pavani2406/Pythonpractice-9-11-2024/blob/main/pythonparctice_11_9_10.ipynb\" target=\"_parent\"><img src=\"https://colab.research.google.com/assets/colab-badge.svg\" alt=\"Open In Colab\"/></a>"
      ]
    },
    {
      "cell_type": "markdown",
      "source": [
        "Creating a class:"
      ],
      "metadata": {
        "id": "NjdD9Bf6RFCP"
      }
    },
    {
      "source": [
        "class employee:\n",
        "  c_name = 'abc'\n",
        "  def __init__(self,name,age,salary):\n",
        "    self.name = name\n",
        "    self.age = age\n",
        "    self.salary = salary\n",
        "\n",
        "  # Indent the show function to make it a method of the employee class\n",
        "  def show(self):\n",
        "    print(\"Employee details: \", self.name, self.age, self.salary)\n",
        "\n",
        "emp1 = employee(\"Harry\", 21, 12000)\n",
        "emp1.show()"
      ],
      "cell_type": "code",
      "metadata": {
        "colab": {
          "base_uri": "https://localhost:8080/"
        },
        "id": "9Rq8lvysTKl1",
        "outputId": "4bb824ab-06f2-43aa-ab5f-bc4d6768c792"
      },
      "execution_count": 12,
      "outputs": [
        {
          "output_type": "stream",
          "name": "stdout",
          "text": [
            "Employee details:  Harry 21 12000\n"
          ]
        }
      ]
    },
    {
      "cell_type": "code",
      "source": [
        "emp2 = employee(\"pavani\", 20, 45000)\n",
        "emp2.show()"
      ],
      "metadata": {
        "colab": {
          "base_uri": "https://localhost:8080/"
        },
        "id": "_QpVRfcgTPfc",
        "outputId": "a907742f-b85d-4c33-9634-d7c804ed8962"
      },
      "execution_count": 13,
      "outputs": [
        {
          "output_type": "stream",
          "name": "stdout",
          "text": [
            "Employee details:  pavani 20 45000\n"
          ]
        }
      ]
    },
    {
      "cell_type": "markdown",
      "source": [
        "encap"
      ],
      "metadata": {
        "id": "wrFk3HP-XPIG"
      }
    },
    {
      "cell_type": "code",
      "source": [
        "class Employee:\n",
        "  def __init__(self, name, salary):\n",
        "    self.name = name\n",
        "    self.__salary = salary\n",
        "  def show(self):\n",
        "    print(\"Name is \", self.name, \"and salary is\", self.__salary)\n",
        ""
      ],
      "metadata": {
        "id": "4BLQ7OLHWHuV"
      },
      "execution_count": 15,
      "outputs": []
    },
    {
      "cell_type": "markdown",
      "source": [
        "polymorphisim"
      ],
      "metadata": {
        "id": "ininuDmXXR3d"
      }
    },
    {
      "source": [
        "class circle:\n",
        "  pi = 3.14159\n",
        "  def __init__(self,radius) :\n",
        "    self.radius = radius\n",
        "\n",
        "  def calculate_area(self): # This method needs to be defined within the class\n",
        "    print(\"area of circle: \",self.pi*self.radius*self.radius)\n",
        "\n",
        "class Rectangle:\n",
        "  def __init__(self, length, width):\n",
        "    self.length = length\n",
        "    self.width = width\n",
        "\n",
        "  def calculate_area(self):\n",
        "    print(\"area of rectangle: \", self.length * self.width)\n",
        "\n",
        "def area(shape):\n",
        "  shape.calculate_area()\n",
        "\n",
        "cir = circle(5)\n",
        "rect = Rectangle(11,5)\n",
        "\n",
        "area(cir)\n",
        "area(rect)"
      ],
      "cell_type": "code",
      "metadata": {
        "colab": {
          "base_uri": "https://localhost:8080/"
        },
        "id": "2biO44S8bU6s",
        "outputId": "20d81e0d-2c2a-418e-bc18-587763b9bb53"
      },
      "execution_count": 40,
      "outputs": [
        {
          "output_type": "stream",
          "name": "stdout",
          "text": [
            "area of circle:  78.53975\n",
            "area of rectangle:  55\n"
          ]
        }
      ]
    },
    {
      "cell_type": "markdown",
      "source": [
        "Inheritance"
      ],
      "metadata": {
        "id": "rdmTXlC5ckQF"
      }
    },
    {
      "cell_type": "code",
      "source": [
        "class vehicle:\n",
        "  def __init__(self,name,color,price):\n",
        "    self.name = name\n",
        "    self.color = color\n",
        "    self.price = price\n",
        "\n",
        "  def info(self):\n",
        "    print(\"vehicle details: \", self.name, self.color, self.price)\n",
        "\n",
        "\n",
        "class car(vehicle):\n",
        "  def change_gear(self,no):\n",
        "    print(self.name,'chang gear to numer, no')\n",
        "\n",
        "\n",
        "car = car('tata','white',10000000)\n",
        "car.info()\n",
        "car.change_gear(10)"
      ],
      "metadata": {
        "colab": {
          "base_uri": "https://localhost:8080/"
        },
        "id": "kLW2LuP1ckyF",
        "outputId": "448a9e0b-fa62-484c-b09c-694984c176ad"
      },
      "execution_count": 42,
      "outputs": [
        {
          "output_type": "stream",
          "name": "stdout",
          "text": [
            "vehicle details:  tata white 10000000\n",
            "tata chang gear to numer, no\n"
          ]
        }
      ]
    },
    {
      "cell_type": "markdown",
      "source": [
        "#numpy"
      ],
      "metadata": {
        "id": "0Ab4UVTkkX_F"
      }
    },
    {
      "cell_type": "code",
      "source": [
        "import numpy as np\n",
        "a = np.random.randint(1,10,8)\n",
        "print(a)"
      ],
      "metadata": {
        "colab": {
          "base_uri": "https://localhost:8080/"
        },
        "id": "oFzdQiVHkbRk",
        "outputId": "775fc500-4ab1-40d0-def4-adf4c1236c8d"
      },
      "execution_count": 45,
      "outputs": [
        {
          "output_type": "stream",
          "name": "stdout",
          "text": [
            "[7 2 5 7 2 3 7 8]\n"
          ]
        }
      ]
    },
    {
      "cell_type": "code",
      "source": [
        "b=np.random.randint(10,30,6)\n",
        "print(b)"
      ],
      "metadata": {
        "colab": {
          "base_uri": "https://localhost:8080/"
        },
        "id": "mowxctNNk480",
        "outputId": "2e8efe6f-ca8a-411a-90e9-2816a97535a6"
      },
      "execution_count": 46,
      "outputs": [
        {
          "output_type": "stream",
          "name": "stdout",
          "text": [
            "[12 24 22 28 25 21]\n"
          ]
        }
      ]
    },
    {
      "cell_type": "code",
      "source": [
        "c=np.random.random((10,5))\n",
        "print(c)\n",
        "\n",
        "#first 5 rows\n",
        "new = c[:5]\n",
        "print(\"first 5 roess new array = \", new)"
      ],
      "metadata": {
        "colab": {
          "base_uri": "https://localhost:8080/"
        },
        "collapsed": true,
        "id": "GGyJUvs4lLk0",
        "outputId": "381b6afb-7650-4b97-de40-2f98f7981b23"
      },
      "execution_count": 47,
      "outputs": [
        {
          "output_type": "stream",
          "name": "stdout",
          "text": [
            "[[0.80919332 0.43920782 0.91572565 0.20878385 0.29212743]\n",
            " [0.58475606 0.53409296 0.45866701 0.23364779 0.61122946]\n",
            " [0.08182295 0.86806445 0.68964582 0.32935223 0.49290607]\n",
            " [0.54970462 0.2926718  0.77543793 0.5648267  0.91113338]\n",
            " [0.55776388 0.93463058 0.31302654 0.20691584 0.09363064]\n",
            " [0.16855384 0.52742618 0.67153376 0.15196634 0.60281309]\n",
            " [0.64287137 0.57078665 0.16324085 0.45136572 0.5967532 ]\n",
            " [0.46867382 0.23678749 0.0818177  0.05850295 0.37080136]\n",
            " [0.03570184 0.95464634 0.1424216  0.33390631 0.00546498]\n",
            " [0.21920037 0.52120203 0.83072848 0.14296931 0.07372098]]\n",
            "first 5 roess new array =  [[0.80919332 0.43920782 0.91572565 0.20878385 0.29212743]\n",
            " [0.58475606 0.53409296 0.45866701 0.23364779 0.61122946]\n",
            " [0.08182295 0.86806445 0.68964582 0.32935223 0.49290607]\n",
            " [0.54970462 0.2926718  0.77543793 0.5648267  0.91113338]\n",
            " [0.55776388 0.93463058 0.31302654 0.20691584 0.09363064]]\n"
          ]
        }
      ]
    },
    {
      "cell_type": "code",
      "source": [
        "#random numbers with integer numbers\n",
        "x=np.random.randint((5,5))\n",
        "print(x)\n",
        "\n",
        "max,min=x.max(),x.min()\n",
        "print(\"highesr = \", max)\n",
        "print(\"lowest = \", min)"
      ],
      "metadata": {
        "colab": {
          "base_uri": "https://localhost:8080/"
        },
        "id": "ARgAUDKBlr1t",
        "outputId": "d008de5f-9ddd-42b3-ad3e-ea191469569b"
      },
      "execution_count": 50,
      "outputs": [
        {
          "output_type": "stream",
          "name": "stdout",
          "text": [
            "[0 2]\n",
            "highesr =  2\n",
            "lowest =  0\n"
          ]
        }
      ]
    },
    {
      "cell_type": "code",
      "source": [
        "#with random numbers\n",
        "x=np.random.random((5,5))\n",
        "print(x)\n",
        "\n",
        "max,min=x.max(),x.min()\n",
        "print(\"highesr = \", max)\n",
        "print(\"lowest = \", min)"
      ],
      "metadata": {
        "colab": {
          "base_uri": "https://localhost:8080/"
        },
        "id": "s0Q2ydLZmdrn",
        "outputId": "9bf8f6e7-e9a5-4624-a7ee-2f14043b4184"
      },
      "execution_count": 51,
      "outputs": [
        {
          "output_type": "stream",
          "name": "stdout",
          "text": [
            "[[0.99265934 0.2968493  0.33639228 0.9163132  0.2349515 ]\n",
            " [0.75738595 0.60259725 0.31073601 0.28953654 0.24901411]\n",
            " [0.52995213 0.52554575 0.26964978 0.3108047  0.84124111]\n",
            " [0.75890398 0.29901022 0.42136458 0.65257762 0.82609927]\n",
            " [0.82900357 0.53187163 0.2167642  0.06918411 0.71304003]]\n",
            "highesr =  0.992659340647189\n",
            "lowest =  0.06918411093135357\n"
          ]
        }
      ]
    },
    {
      "cell_type": "code",
      "source": [
        "z=np.arange(2,12)\n",
        "print(z)\n",
        "np.random.shuffle(z)\n",
        "print(z)"
      ],
      "metadata": {
        "colab": {
          "base_uri": "https://localhost:8080/"
        },
        "id": "iumoQvcsmmZF",
        "outputId": "964ef6cd-a4fb-44be-9a7c-d585ed67d6f8"
      },
      "execution_count": 55,
      "outputs": [
        {
          "output_type": "stream",
          "name": "stdout",
          "text": [
            "[ 2  3  4  5  6  7  8  9 10 11]\n",
            "[ 6  9 11  2 10  3  7  8  4  5]\n"
          ]
        }
      ]
    },
    {
      "source": [
        "import numpy as np\n",
        "\n",
        "y=np.random.randint(0,10,40)\n",
        "print(y)\n",
        "\n",
        "#most frequent and least frq values\n",
        "print(\"most freq values are : \", np.bincount(y).argmax())\n",
        "print(\"least freq values are : \", np.bincount(y).argmin())"
      ],
      "cell_type": "code",
      "metadata": {
        "colab": {
          "base_uri": "https://localhost:8080/"
        },
        "id": "mvZow_Dhn4xF",
        "outputId": "c0400d9c-455b-4eb8-9c54-f8540c9bbdd0"
      },
      "execution_count": 56,
      "outputs": [
        {
          "output_type": "stream",
          "name": "stdout",
          "text": [
            "[8 8 7 9 1 5 0 6 3 9 5 8 5 2 9 0 6 0 9 4 5 8 7 6 8 6 8 4 1 8 7 6 9 8 8 4 0\n",
            " 9 3 0]\n",
            "most freq values are :  8\n",
            "least freq values are :  2\n"
          ]
        }
      ]
    },
    {
      "cell_type": "code",
      "source": [
        "import numpy as np\n",
        "n=int(input(\"enter the num of characters: \"))\n",
        "l=[]\n",
        "\n",
        "for i in range(n):\n",
        "  c=input(\"enter a character\")\n",
        "  l.append(c)\n",
        "\n",
        "n = np.array(l)\n",
        "print(type(n))\n",
        "\n",
        "vowels=['a','e','i','o','u','A','E','I','O','U']\n",
        "cv=0\n",
        "cu=0\n",
        "cl=0\n",
        "\n",
        "for c in n:\n",
        "  if c in vowels:\n",
        "    cv = cv+1\n",
        "  if c.islower():\n",
        "    cl = cl+1\n",
        "  if c.isupper():\n",
        "    cu=cu+1\n",
        "\n",
        "print(cv,cu,cl)"
      ],
      "metadata": {
        "colab": {
          "base_uri": "https://localhost:8080/"
        },
        "id": "S3HOnl-Zo1l8",
        "outputId": "272bdff3-23bf-4a3b-d996-f3baa89d488e"
      },
      "execution_count": 59,
      "outputs": [
        {
          "output_type": "stream",
          "name": "stdout",
          "text": [
            "enter the num of characters: 3\n",
            "enter a charactera\n",
            "enter a charactere\n",
            "enter a characteri\n",
            "<class 'numpy.ndarray'>\n",
            "3 0 3\n"
          ]
        }
      ]
    }
  ]
}